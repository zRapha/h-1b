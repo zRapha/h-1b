{
 "cells": [
  {
   "cell_type": "code",
   "execution_count": 887,
   "metadata": {
    "_cell_guid": "35c0159f-c91d-4440-ae71-139da267eb89",
    "_uuid": "5a6b70a2688efb631c1ba2d63dca2d76f7129a37"
   },
   "outputs": [
    {
     "name": "stdout",
     "output_type": "stream",
     "text": [
      "Loading h1b_kaggle.csv file..\n"
     ]
    },
    {
     "data": {
      "text/html": [
       "<div>\n",
       "<style>\n",
       "    .dataframe thead tr:only-child th {\n",
       "        text-align: right;\n",
       "    }\n",
       "\n",
       "    .dataframe thead th {\n",
       "        text-align: left;\n",
       "    }\n",
       "\n",
       "    .dataframe tbody tr th {\n",
       "        vertical-align: top;\n",
       "    }\n",
       "</style>\n",
       "<table border=\"1\" class=\"dataframe\">\n",
       "  <thead>\n",
       "    <tr style=\"text-align: right;\">\n",
       "      <th></th>\n",
       "      <th>CASE_STATUS</th>\n",
       "      <th>EMPLOYER_NAME</th>\n",
       "      <th>SOC_NAME</th>\n",
       "      <th>JOB_TITLE</th>\n",
       "      <th>FULL_TIME_POSITION</th>\n",
       "      <th>PREVAILING_WAGE</th>\n",
       "      <th>YEAR</th>\n",
       "      <th>WORKSITE</th>\n",
       "      <th>lon</th>\n",
       "      <th>lat</th>\n",
       "    </tr>\n",
       "  </thead>\n",
       "  <tbody>\n",
       "    <tr>\n",
       "      <th>1</th>\n",
       "      <td>CERTIFIED-WITHDRAWN</td>\n",
       "      <td>UNIVERSITY OF MICHIGAN</td>\n",
       "      <td>BIOCHEMISTS AND BIOPHYSICISTS</td>\n",
       "      <td>POSTDOCTORAL RESEARCH FELLOW</td>\n",
       "      <td>N</td>\n",
       "      <td>36067.0</td>\n",
       "      <td>2016</td>\n",
       "      <td>ANN ARBOR, MICHIGAN</td>\n",
       "      <td>-83.743038</td>\n",
       "      <td>42.280826</td>\n",
       "    </tr>\n",
       "  </tbody>\n",
       "</table>\n",
       "</div>"
      ],
      "text/plain": [
       "           CASE_STATUS           EMPLOYER_NAME                       SOC_NAME  \\\n",
       "1  CERTIFIED-WITHDRAWN  UNIVERSITY OF MICHIGAN  BIOCHEMISTS AND BIOPHYSICISTS   \n",
       "\n",
       "                      JOB_TITLE FULL_TIME_POSITION  PREVAILING_WAGE  YEAR  \\\n",
       "1  POSTDOCTORAL RESEARCH FELLOW                  N          36067.0  2016   \n",
       "\n",
       "              WORKSITE        lon        lat  \n",
       "1  ANN ARBOR, MICHIGAN -83.743038  42.280826  "
      ]
     },
     "execution_count": 887,
     "metadata": {},
     "output_type": "execute_result"
    }
   ],
   "source": [
    "%matplotlib inline \n",
    "import math\n",
    "import random\n",
    "import matplotlib\n",
    "import numpy as np\n",
    "import pandas as pd\n",
    "import visualiz as vs\n",
    "from time import time\n",
    "import matplotlib.pyplot as plt\n",
    "from matplotlib.ticker import FuncFormatter\n",
    "from matplotlib.gridspec import GridSpec\n",
    "from sklearn.preprocessing import MinMaxScaler\n",
    "\n",
    "# Reading random number of rows (used by performing test with reduced versions of dataset)\n",
    "#n = 10  # every 10th line = 10% of the lines\n",
    "#h1b_final = pd.read_csv('~/h1b_kaggle.csv', skiprows=lambda i: i % n != 0, index_col=0)\n",
    "#print(len(h1b_final))\n",
    "\n",
    "# Loading full dataset\n",
    "h1b_final = pd.read_csv('~/h1b_kaggle.csv', nrows=3000000, index_col=0)\n",
    "print('Loading h1b_kaggle.csv file..')\n",
    "h1b_final.head(1)"
   ]
  },
  {
   "cell_type": "code",
   "execution_count": 888,
   "metadata": {
    "_cell_guid": "247ae63a-74a9-448c-982d-2e765bd4575d",
    "_uuid": "80c8261c9caad9cb73ce175a32f90708b32bc415"
   },
   "outputs": [
    {
     "data": {
      "text/html": [
       "<div>\n",
       "<style>\n",
       "    .dataframe thead tr:only-child th {\n",
       "        text-align: right;\n",
       "    }\n",
       "\n",
       "    .dataframe thead th {\n",
       "        text-align: left;\n",
       "    }\n",
       "\n",
       "    .dataframe tbody tr th {\n",
       "        vertical-align: top;\n",
       "    }\n",
       "</style>\n",
       "<table border=\"1\" class=\"dataframe\">\n",
       "  <thead>\n",
       "    <tr style=\"text-align: right;\">\n",
       "      <th></th>\n",
       "      <th>SOC_NAME</th>\n",
       "      <th>FULL_TIME_POSITION</th>\n",
       "      <th>PREVAILING_WAGE</th>\n",
       "      <th>YEAR</th>\n",
       "    </tr>\n",
       "  </thead>\n",
       "  <tbody>\n",
       "    <tr>\n",
       "      <th>0</th>\n",
       "      <td>BIOCHEMISTS AND BIOPHYSICISTS</td>\n",
       "      <td>N</td>\n",
       "      <td>36067.0</td>\n",
       "      <td>2016</td>\n",
       "    </tr>\n",
       "  </tbody>\n",
       "</table>\n",
       "</div>"
      ],
      "text/plain": [
       "                        SOC_NAME FULL_TIME_POSITION  PREVAILING_WAGE  YEAR\n",
       "0  BIOCHEMISTS AND BIOPHYSICISTS                  N          36067.0  2016"
      ]
     },
     "execution_count": 888,
     "metadata": {},
     "output_type": "execute_result"
    }
   ],
   "source": [
    "# Removing rejected, invalidated and pending review applications\n",
    "h1b_final = h1b_final[h1b_final['CASE_STATUS'] != 'REJECTED']  \n",
    "h1b_final = h1b_final[h1b_final['CASE_STATUS'] != 'INVALIDATED']  \n",
    "h1b_final = h1b_final[h1b_final['CASE_STATUS'] != 'PENDING QUALITY AND COMPLIANCE REVIEW - UNASSIGNED']  \n",
    "\n",
    "# Restart the index after deleting rows and limiting to remove outlier wages above $1 billion. \n",
    "h1b_final.reset_index(drop=True, inplace=True)\n",
    "h1b_final = h1b_final[(h1b_final['PREVAILING_WAGE'] < 1000000)]\n",
    "\n",
    "# Features & outcome \n",
    "outcome_raw = h1b_final['CASE_STATUS']\n",
    "features_raw = h1b_final.drop(['CASE_STATUS','EMPLOYER_NAME','JOB_TITLE', 'lon', 'lat', 'WORKSITE'], axis = 1)\n",
    "features_raw.head(1)"
   ]
  },
  {
   "cell_type": "code",
   "execution_count": 889,
   "metadata": {},
   "outputs": [
    {
     "name": "stdout",
     "output_type": "stream",
     "text": [
      "\n",
      "Number of applications grouped by case status:\n",
      "\n",
      "CERTIFIED              2613575\n",
      "CERTIFIED-WITHDRAWN     202652\n",
      "DENIED                   92257\n",
      "WITHDRAWN                89412\n",
      "Name: CASE_STATUS, dtype: int64\n"
     ]
    },
    {
     "data": {
      "image/png": "[encoded data removed]",
      "text/plain": [
       "<matplotlib.figure.Figure at 0x1a3e0ee810>"
      ]
     },
     "metadata": {},
     "output_type": "display_data"
    }
   ],
   "source": [
    "# Counting applications by case status\n",
    "case_status = h1b_final['CASE_STATUS'].value_counts()\n",
    "print '\\nNumber of applications grouped by case status:\\n\\n', case_status\n",
    "# Plot applications grouped by case status\n",
    "ax = case_status.plot(kind='bar', stacked=True, title='Applications grouped by case status', color='lightblue')\n",
    "ax.set_xlabel(\"Case status\")\n",
    "ax.set_ylabel('Number of applications')\n",
    "ax.spines['top'].set_visible(False)\n",
    "ax.spines['right'].set_visible(False)"
   ]
  },
  {
   "cell_type": "code",
   "execution_count": 890,
   "metadata": {},
   "outputs": [
    {
     "name": "stdout",
     "output_type": "stream",
     "text": [
      "\n",
      "Number of applications grouped by year:\n",
      "\n",
      "2016    647715\n",
      "2015    618612\n",
      "2014    518911\n",
      "2013    441653\n",
      "2012    415142\n",
      "2011    355863\n",
      "Name: YEAR, dtype: int64\n"
     ]
    },
    {
     "data": {
      "image/png": "[encoded data removed]",
      "text/plain": [
       "<matplotlib.figure.Figure at 0x1a3f396dd0>"
      ]
     },
     "metadata": {},
     "output_type": "display_data"
    }
   ],
   "source": [
    "# Counting applications by year\n",
    "year = h1b_final['YEAR'].value_counts()\n",
    "print '\\nNumber of applications grouped by year:\\n\\n', year\n",
    "\n",
    "# Plot applications grouped by year\n",
    "ax = year.head(10).plot(kind='bar', stacked=True, title='Applications grouped by year', color='lightblue')\n",
    "ax.set_xlabel(\"Year\")\n",
    "ax.set_ylabel('Number of applications')\n",
    "ax.spines['top'].set_visible(False)\n",
    "ax.spines['right'].set_visible(False)"
   ]
  },
  {
   "cell_type": "code",
   "execution_count": 891,
   "metadata": {},
   "outputs": [
    {
     "name": "stdout",
     "output_type": "stream",
     "text": [
      "\n",
      "Number of applications grouped by worksite:\n",
      "\n",
      "NEW YORK, NEW YORK           191431\n",
      "HOUSTON, TEXAS                83767\n",
      "SAN FRANCISCO, CALIFORNIA     62720\n",
      "ATLANTA, GEORGIA              52124\n",
      "CHICAGO, ILLINOIS             51425\n",
      "Name: WORKSITE, dtype: int64\n"
     ]
    },
    {
     "data": {
      "image/png": "[encoded data removed]",
      "text/plain": [
       "<matplotlib.figure.Figure at 0x1a3e1bc1d0>"
      ]
     },
     "metadata": {},
     "output_type": "display_data"
    }
   ],
   "source": [
    "# Counting applications by worksite\n",
    "worksite = h1b_final['WORKSITE'].value_counts()\n",
    "print '\\nNumber of applications grouped by worksite:\\n\\n', worksite.head(5)\n",
    "\n",
    "# Plot applications grouped by worksite\n",
    "ax = worksite.head(10).plot(kind='bar', stacked=True, title='Applications grouped by worksite', color='lightblue')\n",
    "ax.set_xlabel(\"Worksite\")\n",
    "ax.set_ylabel('Number of applications')\n",
    "ax.spines['top'].set_visible(False)\n",
    "ax.spines['right'].set_visible(False)"
   ]
  },
  {
   "cell_type": "code",
   "execution_count": 892,
   "metadata": {},
   "outputs": [
    {
     "name": "stdout",
     "output_type": "stream",
     "text": [
      "\n",
      "Number of applications grouped by job title:\n",
      "\n",
      "PROGRAMMER ANALYST     248557\n",
      "SOFTWARE ENGINEER      121167\n",
      "COMPUTER PROGRAMMER     70422\n",
      "SYSTEMS ANALYST         61882\n",
      "SOFTWARE DEVELOPER      42848\n",
      "Name: JOB_TITLE, dtype: int64\n"
     ]
    },
    {
     "data": {
      "image/png": "[encoded data removed]",
      "text/plain": [
       "<matplotlib.figure.Figure at 0x1a339a9bd0>"
      ]
     },
     "metadata": {},
     "output_type": "display_data"
    }
   ],
   "source": [
    "# Counting applications by job title\n",
    "job_title = h1b_final['JOB_TITLE'].value_counts()\n",
    "print '\\nNumber of applications grouped by job title:\\n\\n', job_title.head(5)\n",
    "\n",
    "# Plot applications grouped by job title\n",
    "ax = job_title.head(10).plot(kind='bar', stacked=True, title='Applications grouped by job title', color='lightblue')\n",
    "ax.set_xlabel(\"Job title\")\n",
    "ax.set_ylabel('Number of applications')\n",
    "ax.spines['top'].set_visible(False)\n",
    "ax.spines['right'].set_visible(False)"
   ]
  },
  {
   "cell_type": "code",
   "execution_count": 893,
   "metadata": {},
   "outputs": [
    {
     "name": "stdout",
     "output_type": "stream",
     "text": [
      "\n",
      "Number of applications grouped by prevailing wage:\n",
      "\n",
      "60000.0    10351\n",
      "55245.0     6842\n",
      "62566.0     6649\n",
      "58053.0     5739\n",
      "52499.0     5561\n",
      "Name: PREVAILING_WAGE, dtype: int64\n"
     ]
    },
    {
     "data": {
      "image/png": "[encoded data removed]",
      "text/plain": [
       "<matplotlib.figure.Figure at 0x1a3a17ba90>"
      ]
     },
     "metadata": {},
     "output_type": "display_data"
    }
   ],
   "source": [
    "# Counting applications by prevailing wage\n",
    "prevailing_wage = h1b_final['PREVAILING_WAGE'].value_counts()\n",
    "print '\\nNumber of applications grouped by prevailing wage:\\n\\n', prevailing_wage.head(5)\n",
    "\n",
    "# Plot applications grouped by prevailing wage\n",
    "_, ax = plt.subplots()\n",
    "ax.hist(h1b_final['PREVAILING_WAGE'], bins=100, facecolor='lightblue', edgecolor='w')\n",
    "ax.set_xlabel(\"Prevailing wage\")\n",
    "ax.set_ylabel('Number of applications')\n",
    "plt.xlim([10000, 180000])\n",
    "ax.spines['top'].set_visible(False)\n",
    "ax.spines['right'].set_visible(False)\n"
   ]
  },
  {
   "cell_type": "code",
   "execution_count": 894,
   "metadata": {},
   "outputs": [
    {
     "name": "stdout",
     "output_type": "stream",
     "text": [
      "\n",
      "Number of applications grouped by job title:\n",
      "\n",
      "INFOSYS LIMITED                      130531\n",
      "TATA CONSULTANCY SERVICES LIMITED     64675\n",
      "WIPRO LIMITED                         48017\n",
      "DELOITTE CONSULTING LLP               36728\n",
      "IBM INDIA PRIVATE LIMITED             34186\n",
      "Name: EMPLOYER_NAME, dtype: int64\n"
     ]
    },
    {
     "data": {
      "image/png": "[encoded data removed]",
      "text/plain": [
       "<matplotlib.figure.Figure at 0x1a321ee450>"
      ]
     },
     "metadata": {},
     "output_type": "display_data"
    }
   ],
   "source": [
    "# Counting applications grouped by employer name\n",
    "employer_name = h1b_final['EMPLOYER_NAME'].value_counts()\n",
    "print '\\nNumber of applications grouped by job title:\\n\\n', employer_name.head(5)\n",
    "\n",
    "# Plot applications grouped by employer name\n",
    "ax = employer_name.head(10).plot(kind='bar', stacked=True, title='Applications grouped by employer name', color='lightblue')\n",
    "ax.set_xlabel(\"Employer name\")\n",
    "ax.set_ylabel('Number of applications')\n",
    "ax.spines['top'].set_visible(False)\n",
    "ax.spines['right'].set_visible(False)"
   ]
  },
  {
   "cell_type": "code",
   "execution_count": 895,
   "metadata": {
    "_cell_guid": "b1f8c2b4-f67b-40bb-a82b-5b227d9fe581",
    "_kg_hide-input": false,
    "_kg_hide-output": false,
    "_uuid": "be3e2d08ab9cb180ab1bd0359dd4387b2cbb721f"
   },
   "outputs": [
    {
     "name": "stdout",
     "output_type": "stream",
     "text": [
      "Statistics for H1-B Visa Applications:\n",
      "\n",
      "Minimum wage: $0.00\n",
      "Maximum wage: $999,611.00\n",
      "Mean wage: $70,407.48\n",
      "Median wage $65,000.00\n",
      "Standard deviation of wage: $26,714.00\n"
     ]
    }
   ],
   "source": [
    "# Show the calculated statistics\n",
    "print(\"Statistics for H1-B Visa Applications:\\n\")\n",
    "print(\"Minimum wage: ${:,.2f}\".format(min(features_raw['PREVAILING_WAGE'])))\n",
    "print(\"Maximum wage: ${:,.2f}\".format(max(features_raw['PREVAILING_WAGE'])))\n",
    "print(\"Mean wage: ${:,.2f}\".format(np.mean(features_raw['PREVAILING_WAGE'])))\n",
    "print(\"Median wage ${:,.2f}\".format(np.median(features_raw['PREVAILING_WAGE'])))\n",
    "print(\"Standard deviation of wage: ${:,.2f}\".format(np.std(features_raw['PREVAILING_WAGE'])))\n"
   ]
  },
  {
   "cell_type": "code",
   "execution_count": 896,
   "metadata": {
    "_cell_guid": "ea6e0b60-2517-4d71-8365-f43fe78a83e8",
    "_uuid": "ef62e27d4c52ce53ceb99b9608e901fa9937a7ea"
   },
   "outputs": [
    {
     "data": {
      "text/html": [
       "<div>\n",
       "<style>\n",
       "    .dataframe thead tr:only-child th {\n",
       "        text-align: right;\n",
       "    }\n",
       "\n",
       "    .dataframe thead th {\n",
       "        text-align: left;\n",
       "    }\n",
       "\n",
       "    .dataframe tbody tr th {\n",
       "        vertical-align: top;\n",
       "    }\n",
       "</style>\n",
       "<table border=\"1\" class=\"dataframe\">\n",
       "  <thead>\n",
       "    <tr style=\"text-align: right;\">\n",
       "      <th></th>\n",
       "      <th>SOC_NAME</th>\n",
       "      <th>FULL_TIME_POSITION</th>\n",
       "      <th>PREVAILING_WAGE</th>\n",
       "      <th>YEAR</th>\n",
       "    </tr>\n",
       "  </thead>\n",
       "  <tbody>\n",
       "    <tr>\n",
       "      <th>0</th>\n",
       "      <td>BIOCHEMISTS AND BIOPHYSICISTS</td>\n",
       "      <td>N</td>\n",
       "      <td>0.036081</td>\n",
       "      <td>1.0</td>\n",
       "    </tr>\n",
       "  </tbody>\n",
       "</table>\n",
       "</div>"
      ],
      "text/plain": [
       "                        SOC_NAME FULL_TIME_POSITION  PREVAILING_WAGE  YEAR\n",
       "0  BIOCHEMISTS AND BIOPHYSICISTS                  N         0.036081   1.0"
      ]
     },
     "metadata": {},
     "output_type": "display_data"
    },
    {
     "data": {
      "image/png": "[encoded data removed]",
      "text/plain": [
       "<matplotlib.figure.Figure at 0x1a339b8bd0>"
      ]
     },
     "metadata": {},
     "output_type": "display_data"
    }
   ],
   "source": [
    "### Prepare the data\n",
    "import scipy\n",
    "from sklearn.preprocessing import MinMaxScaler\n",
    "\n",
    "# Normalize numerical features by initializing a scaler and applying it to the features\n",
    "scaler = MinMaxScaler()\n",
    "numerical = ['YEAR', 'PREVAILING_WAGE']\n",
    "features_raw[numerical] = scaler.fit_transform(features_raw[numerical])\n",
    "\n",
    "# Visualize skewed data and original data \n",
    "display(features_raw.head(1))\n",
    "#vs.distribution(features_raw) #Check and confirm there is no need to treat skew data\n",
    "\n",
    "# Check 'normality' of the features with a quantile-quantile (q-q) plot\n",
    "scipy.stats.probplot(features_raw['PREVAILING_WAGE'], plot=plt)\n",
    "plt.title('Prevailing wage')\n",
    "plt.show()"
   ]
  },
  {
   "cell_type": "code",
   "execution_count": 897,
   "metadata": {
    "_cell_guid": "7098f097-948d-4053-8920-5e00aeb734eb",
    "_uuid": "fe6e54b9be67b860f7f6f5f12ae3310f7e26c145"
   },
   "outputs": [
    {
     "name": "stdout",
     "output_type": "stream",
     "text": [
      "2134 total features after one-hot encoding.\n",
      "Time elapsed: 0:01:39\n"
     ]
    }
   ],
   "source": [
    "### Data Preprocessing \n",
    "time0 = time()\n",
    "outcome_raw = outcome_raw.apply(lambda x: 1 if x == 'CERTIFIED' else x)\n",
    "outcome_raw = outcome_raw.apply(lambda x: 2 if x == 'CERTIFIED-WITHDRAWN' else x)\n",
    "outcome_raw = outcome_raw.apply(lambda x: 3 if x == 'DENIED' else x)\n",
    "outcome = outcome_raw.apply(lambda x: 4 if x == 'WITHDRAWN' else x)\n",
    "\n",
    "features = pd.get_dummies(features_raw)\n",
    "\n",
    "encoded = list(features.columns)\n",
    "print(\"{} total features after one-hot encoding.\".format(len(encoded)))\n",
    "\n",
    "# Show processing time in h:m:s\n",
    "m, s = divmod(time()-time0, 60)\n",
    "h, m = divmod(m, 60)\n",
    "print(\"Time elapsed: %d:%02d:%02d\" % (h, m, s))"
   ]
  },
  {
   "cell_type": "code",
   "execution_count": 898,
   "metadata": {
    "_cell_guid": "3850975c-ce3b-4ca6-b35e-79f0e2c02606",
    "_uuid": "066bb99632c0c94243245d43e819572525d5687d"
   },
   "outputs": [
    {
     "name": "stdout",
     "output_type": "stream",
     "text": [
      "Accuracy score: 0.871803091235\n",
      "F-score (weighted): 0.78004038305\n",
      "Precision (weighted): 0.760040629886\n",
      "Recall (weighted): 0.871803091235\n",
      "\n",
      "Classification Report:\n",
      "\n",
      "             precision    recall  f1-score   support\n",
      "\n",
      "          1       0.87      1.00      0.93   2613575\n",
      "          2       0.00      0.00      0.00    202652\n",
      "          3       0.00      0.00      0.00     92257\n",
      "          4       0.00      0.00      0.00     89412\n",
      "\n",
      "avg / total       0.76      0.87      0.81   2997896\n",
      "\n"
     ]
    }
   ],
   "source": [
    "### Evaluating Model performance with Naive predictor\n",
    "from sklearn.metrics import accuracy_score, precision_score, fbeta_score, recall_score, classification_report\n",
    "predictions_naive = pd.Series(np.ones(len(outcome), dtype = int))\n",
    "\n",
    "# Naive performance using average = weighted for multiclass \n",
    "accuracy = accuracy_score(outcome, predictions_naive)\n",
    "fscore = fbeta_score(outcome, predictions_naive, beta=0.5, average='weighted')\n",
    "precision = precision_score(outcome, predictions_naive, average='weighted')\n",
    "\n",
    "print 'Accuracy score:', accuracy\n",
    "print 'F-score (weighted):', fscore\n",
    "print 'Precision (weighted):', precision\n",
    "print 'Recall (weighted):', recall_score(outcome, predictions_naive, average='weighted')\n",
    "print '\\nClassification Report:\\n\\n', classification_report(outcome, predictions_naive)\n"
   ]
  },
  {
   "cell_type": "code",
   "execution_count": 899,
   "metadata": {
    "_cell_guid": "3472ea6c-424f-4438-aa59-93a657427c73",
    "_uuid": "5d4861c9bccce0952d47296d35f9cef1a012c43a"
   },
   "outputs": [
    {
     "name": "stdout",
     "output_type": "stream",
     "text": [
      "Training and testing split was successful.\n",
      "Training set has 2398316 samples.\n",
      "Testing set has 599580 samples.\n"
     ]
    }
   ],
   "source": [
    "### Shuffle and split the data into training and testing subsets\n",
    "from sklearn.model_selection import train_test_split \n",
    "\n",
    "X_train, X_test, y_train, y_test = train_test_split(features, outcome, test_size=0.2, random_state=11)\n",
    "\n",
    "print \"Training and testing split was successful.\"\n",
    "print \"Training set has {} samples.\".format(X_train.shape[0])\n",
    "print \"Testing set has {} samples.\".format(X_test.shape[0])"
   ]
  },
  {
   "cell_type": "code",
   "execution_count": 900,
   "metadata": {
    "_cell_guid": "4b3ebfcc-7d3b-453d-9f6f-06b790348982",
    "_uuid": "3a86b98e002f52a70c2eac29771ffb2d5ff803d4"
   },
   "outputs": [
    {
     "name": "stdout",
     "output_type": "stream",
     "text": [
      "Done\n"
     ]
    }
   ],
   "source": [
    "### Creating a Training and Predicting Pipeline (by Udacity)\n",
    "from sklearn.metrics import accuracy_score, fbeta_score, f1_score, precision_score, recall_score\n",
    "def train_predict(learner, X_train, y_train, X_test, y_test): \n",
    "    '''\n",
    "    inputs:\n",
    "       - learner: the learning algorithm to be trained and predicted on\n",
    "       - X_train: features training set\n",
    "       - y_train: outcome training set\n",
    "       - X_test: features testing set\n",
    "       - y_test: outcome testing set\n",
    "    '''\n",
    "    \n",
    "    results = {}\n",
    "    \n",
    "    # Fit the learner to the training data using slicing with 'sample_size'\n",
    "    start = time() \n",
    "    learner = learner.fit(X_train, y_train)\n",
    "    end = time() \n",
    "    \n",
    "    # Calculate the training time\n",
    "    results['train_time'] = end - start\n",
    "        \n",
    "    # Get the predictions on the test set & on the first 10% of the training samples - X_train[:239831]\n",
    "    start = time() \n",
    "    predictions_test = clf.predict(X_test)\n",
    "    predictions_train = clf.predict(X_train)\n",
    "    end = time()\n",
    "    \n",
    "    # Calculate the total prediction time\n",
    "    results['pred_time'] = end - start\n",
    "    \n",
    "    # Compute precision on the training samples\n",
    "    results['precision_train'] = precision_score(y_train, predictions_train, average='weighted')\n",
    "    \n",
    "    # Compute precision on test set\n",
    "    results['precision_test'] = precision_score(y_test, predictions_test, average='weighted')\n",
    "    \n",
    "    # Compute F-score on the training samples\n",
    "    results['f_train'] = fbeta_score(y_train, predictions_train, beta=0.5, average='weighted')\n",
    "    \n",
    "    # Compute F-score on the test set\n",
    "    results['f_test'] = fbeta_score(y_test, predictions_test, beta=0.5, average='weighted')\n",
    "\n",
    "    # Print all\n",
    "    print(\"Training {}\".format(learner.__class__.__name__))\n",
    "    print(\"Precision result {}\".format(results['precision_test'], learner.__class__.__name__))\n",
    "    print(\"F-score result {}\".format(results['f_test'], learner.__class__.__name__))\n",
    "    print(\"Recall result {}\".format(recall_score(y_test, predictions_test, average='weighted'), learner.__class__.__name__))\n",
    "\n",
    "    # Return the results\n",
    "    return results\n",
    "    \n",
    "print('Done')"
   ]
  },
  {
   "cell_type": "code",
   "execution_count": 901,
   "metadata": {
    "_cell_guid": "db0d1060-2347-48b0-9129-3ce74a9ab2fd",
    "_kg_hide-input": false,
    "_kg_hide-output": false,
    "_uuid": "ccfd78ba9b39a1e9bfd2a0c67004fa227f6022ed",
    "scrolled": false
   },
   "outputs": [
    {
     "name": "stdout",
     "output_type": "stream",
     "text": [
      "Training LogisticRegression\n",
      "Precision result 0.846939717097\n",
      "F-score result 0.782639224855\n",
      "Recall result 0.872774275326\n",
      "Training RandomForestClassifier\n",
      "Precision result 0.831648492109\n",
      "F-score result 0.833923520799\n",
      "Recall result 0.870514360052\n",
      "Training DecisionTreeClassifier\n",
      "Precision result 0.832282104218\n",
      "F-score result 0.834255591396\n",
      "Recall result 0.872515761033\n",
      "Time elapsed: 7:55:17\n"
     ]
    }
   ],
   "source": [
    "### Initial Model Evaluation: Import the supervised learning models from sklearn\n",
    "from sklearn.naive_bayes import GaussianNB\n",
    "from sklearn.tree import DecisionTreeClassifier\n",
    "from sklearn.ensemble import RandomForestClassifier\n",
    "from sklearn.linear_model import LogisticRegression\n",
    "time0 = time()\n",
    "\n",
    "# Initialize the three models\n",
    "clf_A = LogisticRegression(penalty='l2', random_state=24)\n",
    "clf_B = RandomForestClassifier(n_estimators=10, random_state=16)\n",
    "clf_C = DecisionTreeClassifier(random_state=41)\n",
    "\n",
    "# Collect results on the learners\n",
    "results = {}\n",
    "\n",
    "for clf in [clf_A, clf_B, clf_C]:\n",
    "    clf_name = clf.__class__.__name__\n",
    "    results[clf_name] = {}\n",
    "    results[clf_name] = train_predict(clf, X_train, y_train, X_test, y_test)\n",
    "\n",
    "# Show processing time in h:m:s\n",
    "m, s = divmod(time()-time0, 60)\n",
    "h, m = divmod(m, 60)\n",
    "print(\"Time elapsed: %d:%02d:%02d\" % (h, m, s))\n"
   ]
  },
  {
   "cell_type": "code",
   "execution_count": 903,
   "metadata": {},
   "outputs": [
    {
     "data": {
      "image/png": "[encoded data removed]",
      "text/plain": [
       "<matplotlib.figure.Figure at 0x1a39e8ce10>"
      ]
     },
     "metadata": {},
     "output_type": "display_data"
    }
   ],
   "source": [
    "### Plot training & prediction times for all classifiers \n",
    "k = 0 # 1: Precision - 2: F-Score - 3: Training & Prediction times\n",
    "vs.evaluate(results, 0, k)"
   ]
  },
  {
   "cell_type": "code",
   "execution_count": 904,
   "metadata": {},
   "outputs": [
    {
     "data": {
      "image/png": "[encoded data removed]",
      "text/plain": [
       "<matplotlib.figure.Figure at 0x1a33963b90>"
      ]
     },
     "metadata": {},
     "output_type": "display_data"
    }
   ],
   "source": [
    "### Plot precision for all classifiers \n",
    "k = 1 # 1: Precision - 2: F-Score - 3: Training & Prediction times\n",
    "vs.evaluate(results, precision, k)"
   ]
  },
  {
   "cell_type": "code",
   "execution_count": 905,
   "metadata": {},
   "outputs": [
    {
     "data": {
      "image/png": "[encoded data removed]",
      "text/plain": [
       "<matplotlib.figure.Figure at 0x1a33544210>"
      ]
     },
     "metadata": {},
     "output_type": "display_data"
    }
   ],
   "source": [
    "### Plot F-score for all classifiers \n",
    "k = 2 # 1: Precision - 2: F-Score - 3: Training & Prediction times\n",
    "vs.evaluate(results, fscore, k)"
   ]
  },
  {
   "cell_type": "code",
   "execution_count": 902,
   "metadata": {},
   "outputs": [
    {
     "name": "stdout",
     "output_type": "stream",
     "text": [
      "Unoptimized model\n",
      "------\n",
      "Precision score: 0.8469\n",
      "F-score: 0.7826\n",
      "\n",
      "Optimized Model\n",
      "------\n",
      "Final precision score: 0.8336\n",
      "Final F-score: 0.7837\n",
      "\n",
      "Time elapsed to tune classifier: 4:04:28\n"
     ]
    }
   ],
   "source": [
    "### Model Tuning for Logistic Regression classifiers\n",
    "from sklearn.model_selection import GridSearchCV\n",
    "from sklearn.metrics import make_scorer\n",
    "\n",
    "time2 = time()\n",
    "\n",
    "# Initialize the classifier\n",
    "clf = LogisticRegression(random_state=82)\n",
    "\n",
    "# Create the parameters list you wish to tune\n",
    "param_grid = {'C': [1, 10, 100, 1000]}\n",
    "#param_grid = {'C': [0.001, 0.01, 0.1, 1, 10, 100, 1000]}\n",
    "\n",
    "# Make an fbeta_score scoring object\n",
    "scorer = make_scorer(fbeta_score, beta=0.5, average='weighted')\n",
    "\n",
    "# Perform grid search on the classifier using 'scorer' as the scoring method\n",
    "grid_obj = GridSearchCV(clf, param_grid, scoring = scorer)\n",
    "\n",
    "# Fit the grid search object to the training data and find the optimal parameters\n",
    "grid_fit = grid_obj.fit(X_train, y_train)\n",
    "\n",
    "# Get the estimator\n",
    "best_clf = grid_fit.best_estimator_\n",
    "\n",
    "# Make predictions using the unoptimized and model\n",
    "predictions = (clf.fit(X_train, y_train)).predict(X_test)\n",
    "best_predictions = best_clf.predict(X_test)\n",
    "\n",
    "# Report the before-and-afterscores \n",
    "print(\"Unoptimized model\\n------\")\n",
    "print(\"Precision score: {:.4f}\".format(precision_score(y_test, predictions, average='weighted')))\n",
    "print(\"F-score: {:.4f}\".format(fbeta_score(y_test, predictions, beta=0.5, average='weighted')))\n",
    "print(\"\\nOptimized Model\\n------\")\n",
    "print(\"Final precision score: {:.4f}\".format(precision_score(y_test, best_predictions, average='weighted')))\n",
    "print(\"Final F-score: {:.4f}\".format(fbeta_score(y_test, best_predictions, beta=0.5, average='weighted')))\n",
    "\n",
    "# Show processing time in h:m:s\n",
    "m, s = divmod(time() - time2, 60)\n",
    "h, m = divmod(m, 60)\n",
    "print(\"\\nTime elapsed to tune classifier: %d:%02d:%02d\" % (h, m, s))"
   ]
  },
  {
   "cell_type": "code",
   "execution_count": 17,
   "metadata": {
    "_cell_guid": "8e0ad7bb-facf-40f9-afb3-9f470f3c8a58",
    "_uuid": "579c8961b9543b6d4cd99784eab5c171ed8ec9a8"
   },
   "outputs": [
    {
     "name": "stdout",
     "output_type": "stream",
     "text": [
      "Unoptimized model\n",
      "------\n",
      "Accuracy score on testing data: 0.9827\n",
      "F-score on testing data: 0.9866\n",
      "\n",
      "Optimized Model\n",
      "------\n",
      "Final accuracy score on the testing data: 0.9833\n",
      "Final F-score on the testing data: 0.9866\n",
      "Time elapsed: 2:39:14\n"
     ]
    }
   ],
   "source": [
    "### Model Tuning Decision Tree classifier \n",
    "# Used on binary output (certified - denied) & 500.000 applications\n",
    "from sklearn.model_selection import GridSearchCV\n",
    "from sklearn.metrics import make_scorer \n",
    "time0 = time()\n",
    "\n",
    "# Initialize the classifier\n",
    "clf = DecisionTreeClassifier(random_state=27)\n",
    "\n",
    "# Create the parameters list you wish to tune\n",
    "parameters = {'criterion': ['gini', 'entropy'], 'splitter': ['best', 'random'], \n",
    "              'max_depth': [1,3,5,10,15], 'max_leaf_nodes': [2,5,10,15,30,50,100]}\n",
    "\n",
    "# Make an fbeta_score scoring object\n",
    "scorer = make_scorer(fbeta_score, beta=0.5)\n",
    "\n",
    "# Perform grid search on the classifier using 'scorer' as the scoring method\n",
    "grid_obj = GridSearchCV(clf, parameters, scoring=scorer)\n",
    "\n",
    "# Fit the grid search object to the training data and find the optimal parameters\n",
    "grid_fit = grid_obj.fit(X_train, y_train)\n",
    "\n",
    "# Get the estimator\n",
    "best_clf = grid_fit.best_estimator_\n",
    "\n",
    "# Make predictions using the unoptimized and model\n",
    "predictions = (clf.fit(X_train, y_train)).predict(X_test)\n",
    "best_predictions = best_clf.predict(X_test)\n",
    "\n",
    "# Report the before-and-afterscores\n",
    "print(\"Unoptimized model\\n------\")\n",
    "print(\"Precision score on testing data: {:.4f}\".format(precision_score(y_test, predictions, average='weighted')))\n",
    "print(\"F-score on testing data: {:.4f}\".format(fbeta_score(y_test, predictions, beta = 0.5, average='weighted')))\n",
    "print(\"\\nOptimized Model\\n------\")\n",
    "print(\"Final precision score on the testing data: {:.4f}\".format(precision_score(y_test, best_predictions, average='weighted')))\n",
    "print(\"Final F-score on the testing data: {:.4f}\".format(fbeta_score(y_test, best_predictions, beta = 0.5, average='weighted')))\n",
    "\n",
    "# Show processing time in h:m:s\n",
    "m, s = divmod(time()-time0, 60)\n",
    "h, m = divmod(m, 60)\n",
    "print(\"Time elapsed: %d:%02d:%02d\" % (h, m, s))"
   ]
  },
  {
   "cell_type": "code",
   "execution_count": 883,
   "metadata": {},
   "outputs": [
    {
     "name": "stdout",
     "output_type": "stream",
     "text": [
      "Unoptimized model\n",
      "------\n",
      "Precision score on testing data: 0.8060\n",
      "F-score on testing data: 0.8118\n",
      "\n",
      "Optimized Model\n",
      "------\n",
      "Final precision score on the testing data: 0.8605\n",
      "Final F-score on the testing data: 0.7883\n",
      "Time elapsed: 0:04:14\n"
     ]
    }
   ],
   "source": [
    "### Model Tuning Random Forest classifier on 250.000 random applications\n",
    "from sklearn.model_selection import GridSearchCV\n",
    "from sklearn.metrics import make_scorer \n",
    "time0 = time()\n",
    "\n",
    "# Initialize the classifier\n",
    "clf = RandomForestClassifier(n_estimators=10)\n",
    "\n",
    "clf.get_params().keys()\n",
    "\n",
    "# Create the parameters list you wish to tune\n",
    "parameters = {'max_leaf_nodes': [5, 10, 50, 100, 200, 500]}\n",
    "\n",
    "# Make an fbeta_score scoring object\n",
    "scorer = make_scorer(fbeta_score, beta=0.5, average='weighted')\n",
    "\n",
    "# Perform grid search on the classifier using 'scorer' as the scoring method\n",
    "grid_obj = GridSearchCV(clf, parameters, scoring=scorer)\n",
    "\n",
    "# Fit the grid search object to the training data and find the optimal parameters\n",
    "grid_fit = grid_obj.fit(X_train, y_train)\n",
    "\n",
    "# Get the estimator\n",
    "best_clf = grid_fit.best_estimator_\n",
    "\n",
    "# Make predictions using the unoptimized and model\n",
    "predictions = (clf.fit(X_train, y_train)).predict(X_test)\n",
    "best_predictions = best_clf.predict(X_test)\n",
    "\n",
    "# Report the before-and-afterscores\n",
    "print(\"Unoptimized model\\n------\")\n",
    "print(\"Precision score on testing data: {:.4f}\".format(precision_score(y_test, predictions, average='weighted')))\n",
    "print(\"F-score on testing data: {:.4f}\".format(fbeta_score(y_test, predictions, beta = 0.5, average='weighted')))\n",
    "print(\"\\nOptimized Model\\n------\")\n",
    "print(\"Final precision score on the testing data: {:.4f}\".format(precision_score(y_test, best_predictions, average='weighted')))\n",
    "print(\"Final F-score on the testing data: {:.4f}\".format(fbeta_score(y_test, best_predictions, beta = 0.5, average='weighted')))\n",
    "\n",
    "# Show processing time in h:m:s\n",
    "m, s = divmod(time()-time0, 60)\n",
    "h, m = divmod(m, 60)\n",
    "print(\"Time elapsed: %d:%02d:%02d\" % (h, m, s))"
   ]
  },
  {
   "cell_type": "code",
   "execution_count": 906,
   "metadata": {},
   "outputs": [
    {
     "name": "stdout",
     "output_type": "stream",
     "text": [
      "Random Forest:\n",
      "------\n",
      "Precision score on testing data: 0.8316\n",
      "F-score on testing data: 0.8339\n",
      "Recall on testing data: 0.8705\n",
      "\n",
      "Decision Tree:\n",
      "------\n",
      "Precision score on the testing data: 0.8323\n",
      "F-score on the testing data: 0.8343\n",
      "Recall on testing data: 0.8725\n",
      "\n",
      "Logistic Regression:\n",
      "------\n",
      "Precision score on the testing data: 0.8469\n",
      "F-score on the testing data: 0.7826\n",
      "Recall on testing data: 0.8728\n"
     ]
    }
   ],
   "source": [
    "### Make predictions using the final models\n",
    "predictions_LR = clf_A.predict(X_test)\n",
    "predictions_RF = clf_B.predict(X_test)\n",
    "predictions_DT = clf_C.predict(X_test)\n",
    "\n",
    "# Report the scores for the models\n",
    "print(\"Random Forest:\\n------\")\n",
    "print(\"Precision score on testing data: {:.4f}\".format(precision_score(y_test, predictions_RF, average='weighted')))\n",
    "print(\"F-score on testing data: {:.4f}\".format(fbeta_score(y_test, predictions_RF, beta = 0.5, average='weighted')))\n",
    "print(\"Recall on testing data: {:.4f}\".format(recall_score(y_test, predictions_RF, average='weighted')))\n",
    "print(\"\\nDecision Tree:\\n------\")\n",
    "print(\"Precision score on the testing data: {:.4f}\".format(precision_score(y_test, predictions_DT, average='weighted')))\n",
    "print(\"F-score on the testing data: {:.4f}\".format(fbeta_score(y_test, predictions_DT, beta = 0.5, average='weighted')))\n",
    "print(\"Recall on testing data: {:.4f}\".format(recall_score(y_test, predictions_DT, average='weighted')))\n",
    "print(\"\\nLogistic Regression:\\n------\")\n",
    "print(\"Precision score on the testing data: {:.4f}\".format(precision_score(y_test, predictions_LR, average='weighted')))\n",
    "print(\"F-score on the testing data: {:.4f}\".format(fbeta_score(y_test, predictions_LR, beta = 0.5, average='weighted')))\n",
    "print(\"Recall on testing data: {:.4f}\".format(recall_score(y_test, predictions_LR, average='weighted')))\n"
   ]
  },
  {
   "cell_type": "code",
   "execution_count": 907,
   "metadata": {
    "_cell_guid": "49a89afd-82a6-447d-8280-83d19f7e8955",
    "_uuid": "69691d7a52d0b3b3790165968f50dd9838660983"
   },
   "outputs": [
    {
     "data": {
      "image/png": "[encoded data removed]",
      "text/plain": [
       "<matplotlib.figure.Figure at 0x1a333dd910>"
      ]
     },
     "metadata": {},
     "output_type": "display_data"
    }
   ],
   "source": [
    "### Identifying most relevant features by using a supervised model with 'feature_importances_'\n",
    "\n",
    "# Extract the feature importances using Decision Tree Classifier (clf_B for Random Forest)\n",
    "importances = clf_C.feature_importances_\n",
    "\n",
    "# Visualization \n",
    "vs.feature_plot(importances, X_train, y_train)"
   ]
  },
  {
   "cell_type": "code",
   "execution_count": 908,
   "metadata": {
    "_cell_guid": "b4a0bdd9-09cf-4b1c-b072-f19126a566d5",
    "_uuid": "c4a56c2177ee5ef33d08a08841dc673c38849b47"
   },
   "outputs": [
    {
     "name": "stdout",
     "output_type": "stream",
     "text": [
      "Final Model trained on full data\n",
      "------\n",
      "Precision on testing data: 0.8323\n",
      "F-score on testing data: 0.8343\n",
      "\n",
      "Final Model trained on reduced data\n",
      "------\n",
      "Precision on testing data: 0.7615\n",
      "F-score on testing data: 0.7814\n"
     ]
    }
   ],
   "source": [
    "### Training using only most relevant features for less prediction time \n",
    "### (but at the cost of performance metrics) shows nonetheless decent results\n",
    "\n",
    "# Import functionality for cloning a model\n",
    "from sklearn.base import clone\n",
    "time0 = time()\n",
    "\n",
    "# Reduce the feature space\n",
    "X_train_reduced = X_train[X_train.columns.values[(np.argsort(importances)[::-1])[:5]]]\n",
    "X_test_reduced = X_test[X_test.columns.values[(np.argsort(importances)[::-1])[:5]]]\n",
    "\n",
    "# Train on the best model found from grid search earlier - (clf_B: Random Forest & clf_C: Decision Tree)\n",
    "clf = (clone(best_clf)).fit(X_train_reduced, y_train)\n",
    "#clf = (clone(clf_C)).fit(X_train_reduced, y_train)\n",
    "\n",
    "# Make new predictions\n",
    "reduced_predictions = clf.predict(X_test_reduced)\n",
    "\n",
    "# Report scores from the final model using both versions of data\n",
    "print(\"Final Model trained on full data\\n------\")\n",
    "print(\"Precision on testing data: {:.4f}\".format(precision_score(y_test, predictions_DT, average='weighted')))\n",
    "print(\"F-score on testing data: {:.4f}\".format(fbeta_score(y_test, predictions_DT, beta = 0.5, average='weighted')))\n",
    "print(\"\\nFinal Model trained on reduced data\\n------\")\n",
    "print(\"Precision on testing data: {:.4f}\".format(precision_score(y_test, reduced_predictions, average='weighted')))\n",
    "print(\"F-score on testing data: {:.4f}\".format(fbeta_score(y_test, reduced_predictions, beta = 0.5, average='weighted')))"
   ]
  },
  {
   "cell_type": "code",
   "execution_count": 909,
   "metadata": {
    "_uuid": "2761699c1de2fa0e8408b2369b49cb6e26c46421"
   },
   "outputs": [
    {
     "name": "stdout",
     "output_type": "stream",
     "text": [
      "Logit cross validation score: [ 0.78187132  0.782364    0.78263478  0.78259535  0.78215377]\n",
      "R^2 score: 0.872737582975\n",
      "Mean score: 0.782323843597\n"
     ]
    }
   ],
   "source": [
    "### Validate the robutsness of the Logistic Regression model using cross-validation\n",
    "from sklearn.model_selection import cross_val_score\n",
    "\n",
    "cross_score = cross_val_score(clf_A, X_test, y_test, scoring=scorer, cv=5)\n",
    "print 'Logit cross validation score:', cross_score\n",
    "score = best_clf.score(X_test, y_test)\n",
    "print 'R^2 score:', score\n",
    "print 'Mean score:', cross_score.mean()\n"
   ]
  },
  {
   "cell_type": "code",
   "execution_count": 910,
   "metadata": {},
   "outputs": [
    {
     "name": "stdout",
     "output_type": "stream",
     "text": [
      "RF cross validation score: [ 0.81908211  0.81793291  0.81948324  0.81909517  0.81979511]\n",
      "R^2 score: 0.872737582975\n",
      "Mean score: 0.81907770776\n"
     ]
    }
   ],
   "source": [
    "### Validate the robutsness of the Random Forest Tree classifier using cross-validation\n",
    "from sklearn.model_selection import cross_val_score\n",
    "\n",
    "cross_score = cross_val_score(clf_B, X_test, y_test, scoring=scorer, cv=5)\n",
    "print 'RF cross validation score:', cross_score\n",
    "score = best_clf.score(X_test, y_test)\n",
    "print 'R^2 score:', score\n",
    "print 'Mean score:', cross_score.mean()"
   ]
  },
  {
   "cell_type": "code",
   "execution_count": 912,
   "metadata": {},
   "outputs": [
    {
     "name": "stdout",
     "output_type": "stream",
     "text": [
      "DT cross validation score: [ 0.81980377  0.81968752  0.82078271  0.81933498  0.82095799]\n",
      "R^2 score: 0.872737582975\n",
      "Mean score: 0.820113393883\n"
     ]
    }
   ],
   "source": [
    "### Validate the robutsness of the Decision Tree classifier using cross-validation\n",
    "from sklearn.model_selection import cross_val_score\n",
    "\n",
    "cross_score = cross_val_score(clf_C, X_test, y_test, scoring=scorer, cv=5)\n",
    "print 'DT cross validation score:', cross_score\n",
    "score = best_clf.score(X_test, y_test)\n",
    "print 'R^2 score:', score\n",
    "print 'Mean score:', cross_score.mean()"
   ]
  },
  {
   "cell_type": "code",
   "execution_count": 911,
   "metadata": {},
   "outputs": [
    {
     "name": "stdout",
     "output_type": "stream",
     "text": [
      "Best cross validation score: [ 0.78353127  0.78354941  0.78388193  0.78369918  0.7833574 ]\n",
      "R^2 score: 0.872737582975\n",
      "Mean score: 0.783603837683\n"
     ]
    }
   ],
   "source": [
    "### Validate the robutsness of the best classifier using cross-validation\n",
    "from sklearn.model_selection import cross_val_score\n",
    "\n",
    "cross_score = cross_val_score(best_clf, X_test, y_test, scoring=scorer, cv=5)\n",
    "print 'Best cross validation score:', cross_score\n",
    "score = best_clf.score(X_test, y_test)\n",
    "print 'R^2 score:', score\n",
    "print 'Mean score:', cross_score.mean()"
   ]
  },
  {
   "cell_type": "code",
   "execution_count": null,
   "metadata": {
    "collapsed": true
   },
   "outputs": [],
   "source": []
  }
 ],
 "metadata": {
  "kernelspec": {
   "display_name": "Python 2",
   "language": "python",
   "name": "python2"
  },
  "language_info": {
   "codemirror_mode": {
    "name": "ipython",
    "version": 2
   },
   "file_extension": ".py",
   "mimetype": "text/x-python",
   "name": "python",
   "nbconvert_exporter": "python",
   "pygments_lexer": "ipython2",
   "version": "2.7.14"
  }
 },
 "nbformat": 4,
 "nbformat_minor": 1
}
